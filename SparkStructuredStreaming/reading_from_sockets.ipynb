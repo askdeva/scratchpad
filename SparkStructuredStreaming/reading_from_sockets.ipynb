{
 "cells": [
  {
   "cell_type": "code",
   "execution_count": null,
   "id": "ec4cb77f",
   "metadata": {
    "vscode": {
     "languageId": "plaintext"
    }
   },
   "outputs": [],
   "source": [
    "# Generate a Spark Session\n",
    "\n",
    "from pyspark.sql import SparkSession\n",
    "\n",
    "spark = (\n",
    "    SparkSession\n",
    "    .builder\n",
    "    .appName(\"Reading from Sockets')\n",
    "    .master(\"local[*]\")\n",
    "    .getOrCreate()\n",
    ")\n",
    "\n",
    "spark"
   ]
  },
  {
   "cell_type": "code",
   "execution_count": null,
   "id": "69dfb4c6",
   "metadata": {
    "vscode": {
     "languageId": "plaintext"
    }
   },
   "outputs": [],
   "source": [
    "# Read input data\n",
    "\n",
    "# df_raw = spark.read.format(\"text\").load(\"example.txt\") # batch processing code\n",
    "\n",
    "# streaming version\n",
    "df_raw = spark.readStream.format(\"socket\").option(\"host\",\"localhost\").option(\"port\", \"9999\").load()"
   ]
  },
  {
   "cell_type": "code",
   "execution_count": null,
   "id": "e90bad06",
   "metadata": {
    "vscode": {
     "languageId": "plaintext"
    }
   },
   "outputs": [],
   "source": [
    "df_raw.printSchema()"
   ]
  },
  {
   "cell_type": "markdown",
   "id": "b868ead0",
   "metadata": {},
   "source": [
    "#### Show commands \".show()\" are not required in the case of streaming source."
   ]
  },
  {
   "cell_type": "code",
   "execution_count": null,
   "id": "775b3f9a",
   "metadata": {
    "vscode": {
     "languageId": "plaintext"
    }
   },
   "outputs": [],
   "source": [
    "# Split the line into words\n",
    "from pyspark.sql.functions import split\n",
    "\n",
    "df_words = df_raw.withColumn(\"words\", split(\"value\", \" \"))"
   ]
  },
  {
   "cell_type": "code",
   "execution_count": null,
   "id": "45d6d105",
   "metadata": {
    "vscode": {
     "languageId": "plaintext"
    }
   },
   "outputs": [],
   "source": [
    "df_words.show() "
   ]
  },
  {
   "cell_type": "code",
   "execution_count": null,
   "id": "2e1a2889",
   "metadata": {
    "vscode": {
     "languageId": "plaintext"
    }
   },
   "outputs": [],
   "source": [
    "# Explode the list of words\n",
    "from pyspark.sql.functions import explode\n",
    "\n",
    "df_explode = df_words.withColumn(\"word\", explode(\"words\")).drop(\"value\", \"words\")"
   ]
  },
  {
   "cell_type": "code",
   "execution_count": null,
   "id": "135dd5b9",
   "metadata": {
    "vscode": {
     "languageId": "plaintext"
    }
   },
   "outputs": [],
   "source": [
    "df_explode.show() "
   ]
  },
  {
   "cell_type": "code",
   "execution_count": null,
   "id": "029ad26a",
   "metadata": {},
   "outputs": [],
   "source": [
    "# Aggregate the words to generate count\n",
    "from pyspark.sql.functions import count, lit\n",
    "\n",
    "df_agg = df_explode.groupBy(\"word\").agg(count(lit(1)).alias(\"cnt\"))"
   ]
  },
  {
   "cell_type": "code",
   "execution_count": null,
   "id": "1c490887",
   "metadata": {
    "vscode": {
     "languageId": "plaintext"
    }
   },
   "outputs": [],
   "source": [
    "df_agg.show()"
   ]
  },
  {
   "cell_type": "code",
   "execution_count": null,
   "id": "f7eb91b3",
   "metadata": {
    "vscode": {
     "languageId": "plaintext"
    }
   },
   "outputs": [],
   "source": [
    "# Write the output to console streaming\n",
    "\n",
    "df_agg.writeStream.format(\"console\").outputMode(\"complete\").start().awaitTermination()"
   ]
  },
  {
   "cell_type": "code",
   "execution_count": null,
   "id": "87ae3671",
   "metadata": {
    "vscode": {
     "languageId": "plaintext"
    }
   },
   "outputs": [],
   "source": []
  }
 ],
 "metadata": {
  "language_info": {
   "name": "python"
  }
 },
 "nbformat": 4,
 "nbformat_minor": 5
}
